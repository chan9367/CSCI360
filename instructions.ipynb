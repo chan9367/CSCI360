{
 "cells": [
  {
   "cell_type": "markdown",
   "metadata": {
    "collapsed": false
   },
   "source": [
    "## Using AES encryption in Python\n",
    "\n",
    "### Due 10/22/19\n",
    "\n",
    "Below you will see a simple example of how to use AES for encryption in Python.  \n",
    "\n",
    "The Advanced Encryption Standard (AES) is one of the most widely used and secure ciphers.\n",
    "\n",
    "AES is a _block cipher_ meaning that it encrypts data block by block. A _block_ for AES is 128 bits of information (16 bytes).  This is about 16 keyboard characters (or about 5 pixels) worth of information.  \n",
    "\n",
    "The details of what AES does to a block of data to encrypt it is a little complicated, but it basically involves repeatedly making substitutions in the bytes (like our substitution cipher) and then mixing the bytes around.  Exactly what comes out also depends on the _key_ which is mixed into the data during the encryption process.  \n",
    "\n",
    "A block cipher like AES usually requires a mode of operation.  Again this is beyond the scope of our project but the curious can read the Wikipedia page below.  \n",
    "\n",
    "[https://en.wikipedia.org/wiki/Block_cipher_mode_of_operation](https://en.wikipedia.org/wiki/Block_cipher_mode_of_operation)\n",
    "\n",
    "The goals of the block cipher modes are to blur the statistical relationship between the plaintext and the ciphertext, and also to ensure that if a message is encrypted twice with the same key then different ciphertexts come out.\n",
    "\n",
    "That's possible because in addition to the _key_ the block cipher takes an initialization vector (IV) which is a random number associated with a single encryption.  It does not need to be kept private.  \n",
    "\n",
    "There are a lot of libraries for doing cryptography in Python.\n",
    "\n",
    "The library we will use is called [pycrypto](https://pypi.org/project/pycrypto/).  \n",
    "\n",
    "The basic usage is demonstrated below.  Ciphertext is not printable (because it involves random bits which do not render as normal characters.)  We print the ciphertext out in a few different ways to give you a feel for what it is.  In a Python byte string '\\xAA' is the hexadecimal number AA, '\\x10' is the hexadecimal number 10, etc.  \n",
    "\n",
    "Sometimes the ciphertext is printed as a mix of printable characters and hex numbers.  For example the following is a ciphertext:\n",
    "\n",
    "    ';\\x9a~2|\\x187\\x83v\\x07p?\\x93\\x19,z\\x83\\xd6\\xdd\\x12\\xff\\xf5`\\xa2J\\x11E\\xa1m~-\\xa8'\n",
    "   \n",
    "Where possible the characters are printed (eg ';' 'a' '~'  etc).  When I non-printing character is encountered the hex is printed instead (eg 0x9a 0x18 0x83 etc).   \n"
   ]
  },
  {
   "cell_type": "code",
   "execution_count": 1,
   "metadata": {
    "collapsed": false
   },
   "outputs": [
    {
     "name": "stdout",
     "output_type": "stream",
     "text": [
      "Encrypting the message M='The answer is noBye mom, love you.**************'' using the key 'This is a key123' and the IV 'This is an IV456'\n",
      "\n",
      "Here is the ciphertext as a byte string:\n",
      "b'\\xd6\\x83\\x8dd!VT\\x92\\xaa`A\\x05\\xe0\\x9b\\x8b\\xf1n6D^-:\\xb2\\xfd\\xdc,\\xcc0\\x9adp\\x92\\xe7\\xdd\\x19\\xfd\\x06%\\xac\\xcc\\x04`\\xd4\\x88\\xfe\\t\\x95\\x96'\n",
      "\n",
      "Here is the ciphertext as a list of hexadecimal numbers:\n",
      "['0xd6', '0x83', '0x8d', '0x64', '0x21', '0x56', '0x54', '0x92', '0xaa', '0x60', '0x41', '0x5', '0xe0', '0x9b', '0x8b', '0xf1', '0x6e', '0x36', '0x44', '0x5e', '0x2d', '0x3a', '0xb2', '0xfd', '0xdc', '0x2c', '0xcc', '0x30', '0x9a', '0x64', '0x70', '0x92', '0xe7', '0xdd', '0x19', '0xfd', '0x6', '0x25', '0xac', '0xcc', '0x4', '0x60', '0xd4', '0x88', '0xfe', '0x9', '0x95', '0x96']\n",
      "\n",
      "Here is the ciphertext as a sequence of bits:\n",
      "1101011010000011100011011100100100001101011010101001001001010101010110000010000011011110000010011011100010111111000111011101101101000100101111010110111101010110010111111011101110010110011001100110000100110101100100111000010010010111001111101110111001111111011101001011010110011001100100110000011010100100010001111111010011001010110010110\n"
     ]
    }
   ],
   "source": [
    "#https://pypi.org/project/pycrypto/\n",
    "\n",
    "from Crypto.Cipher import AES\n",
    "obj = AES.new('This is a key123', AES.MODE_CBC, 'This is an IV456')\n",
    "message = \"The answer is noBye mom, love you.**************\"\n",
    "ciphertext = obj.encrypt(message)\n",
    "\n",
    "print(\"Encrypting the message M='{}'' using the key 'This is a key123' and the IV 'This is an IV456'\".format(message))\n",
    "\n",
    "print(\"\\nHere is the ciphertext as a byte string:\")\n",
    "\n",
    "print( ciphertext)\n",
    "\n",
    "print(\"\\nHere is the ciphertext as a list of hexadecimal numbers:\")\n",
    "print( [hex(x) for x in list(ciphertext)])\n",
    "\n",
    "print(\"\\nHere is the ciphertext as a sequence of bits:\")\n",
    "print(\"\".join( [bin(x)[2:] for x in list(ciphertext)]))"
   ]
  },
  {
   "cell_type": "markdown",
   "metadata": {
    "collapsed": false
   },
   "source": [
    "## Decryption\n",
    "\n",
    "Decryption works like this."
   ]
  },
  {
   "cell_type": "code",
   "execution_count": 2,
   "metadata": {
    "collapsed": false
   },
   "outputs": [
    {
     "data": {
      "text/plain": [
       "b'The answer is noBye mom, love you.**************'"
      ]
     },
     "execution_count": 2,
     "metadata": {
     },
     "output_type": "execute_result"
    }
   ],
   "source": [
    "\n",
    "obj2 = AES.new('This is a key123', AES.MODE_CBC, 'This is an IV456')\n",
    "obj2.decrypt(ciphertext)"
   ]
  },
  {
   "cell_type": "code",
   "execution_count": 3,
   "metadata": {
    "collapsed": false
   },
   "outputs": [
    {
     "data": {
      "text/plain": [
       "b'?\\xa9Dv\\xa4\\xde\\xad\\xfc\\xeb8\\xd9I\\xf8\\x83\\xad\\xf3\\x1a\\x98\\xeb\\x009\\x9a\\xb6_\\xb8\\xaf\\x833S\\xe8o\\x0c\\xba\\xed\\xe6\\x83\\xe7\\xe3\\x06\\xd5\\xcf\\xb6rO\\xe1\\x04\\xd7\\xba'"
      ]
     },
     "execution_count": 3,
     "metadata": {
     },
     "output_type": "execute_result"
    }
   ],
   "source": [
    "# Exercise:\n",
    "## What happens if the IV or the key is wrong in the decryption (try it)?\n",
    "obj2 = AES.new('This is a key623', AES.MODE_CBC, 'This is an IV196')\n",
    "obj2.decrypt(ciphertext)"
   ]
  },
  {
   "cell_type": "code",
   "execution_count": 4,
   "metadata": {
    "collapsed": false
   },
   "outputs": [
   ],
   "source": [
    "# You might want to read the documentation for AES.new, below. "
   ]
  },
  {
   "cell_type": "code",
   "execution_count": 5,
   "metadata": {
    "collapsed": false
   },
   "outputs": [
   ],
   "source": [
    "AES.new?"
   ]
  },
  {
   "cell_type": "markdown",
   "metadata": {
    "collapsed": false
   },
   "source": [
    "# An irritating detail (part 1)\n",
    "\n",
    "You might notice that the message encrypted above is exactly a multiple of 16 bytes (characters) long.\n",
    "\n",
    "If you change the message to be shorter or longer (but not an exact multiple of 16 characters) you'll find that you get an error message.\n",
    "\n",
    "This happens because the block cipher mode CBC requires the message to divide evenly into blocks. Because a block is 16 bytes, messages must have lengths that are multiples of 16.  \n",
    "\n",
    "You can get around this with \"padding\" which rounds out the length of a message.\n",
    "\n",
    "Here is an example of how it works.\n"
   ]
  },
  {
   "cell_type": "code",
   "execution_count": 5,
   "metadata": {
    "collapsed": false
   },
   "outputs": [
    {
     "data": {
      "text/plain": [
       "'squ\\r\\r\\r\\r\\r\\r\\r\\r\\r\\r\\r\\r\\r'"
      ]
     },
     "execution_count": 5,
     "metadata": {
     },
     "output_type": "execute_result"
    }
   ],
   "source": [
    "# Much of this code is borrowed from here:  https://gist.github.com/crmccreary/5610068\n",
    "BS = 16\n",
    "pad = lambda s: s + (BS - len(s) % BS) * chr(BS - len(s) % BS) \n",
    "unpad = lambda s : s[0:-ord(s[-1])]\n",
    "\n",
    "#The above lambdas do the padding and unpadding\n",
    "\n",
    "padded_message = pad(\"squ\")\n",
    "padded_message  "
   ]
  },
  {
   "cell_type": "code",
   "execution_count": 6,
   "metadata": {
    "collapsed": false
   },
   "outputs": [
    {
     "name": "stdout",
     "output_type": "stream",
     "text": [
      "'squ\\r\\r\\r\\r\\r\\r\\r\\r\\r\\r\\r\\r\\r'\n"
     ]
    },
    {
     "data": {
      "text/plain": [
       "'squ'"
      ]
     },
     "execution_count": 6,
     "metadata": {
     },
     "output_type": "execute_result"
    }
   ],
   "source": [
    "ps = \"squ\" + 13*chr(13)\n",
    "print(repr( ps))\n",
    "ps[0:-13]"
   ]
  },
  {
   "cell_type": "markdown",
   "metadata": {
    "collapsed": false
   },
   "source": [
    "Because the message \"squ\" is length 3, it lacks 13 characters to make a full block.\n",
    "\n",
    "The padding scheme works by filling out 13 more bytes in the message with the value 13 (which happens to represent the ASCII carriage return character '\\r').\n"
   ]
  },
  {
   "cell_type": "code",
   "execution_count": 7,
   "metadata": {
    "collapsed": false
   },
   "outputs": [
    {
     "data": {
      "text/plain": [
       "'Class of 2023\\x03\\x03\\x03'"
      ]
     },
     "execution_count": 7,
     "metadata": {
     },
     "output_type": "execute_result"
    }
   ],
   "source": [
    "#Another example\n",
    "padded_message = pad(\"Class of 2023\")\n",
    "padded_message"
   ]
  },
  {
   "cell_type": "markdown",
   "metadata": {
    "collapsed": false
   },
   "source": [
    "Because the message \"Class of 2023\" is 13 characters (bytes) long, it lacks 3 characters (bytes) to make a full block.  The padding scheme works by appending 3 bytes consisting of 0x03 to the message to make the length a multiple of 16 bytes."
   ]
  },
  {
   "cell_type": "code",
   "execution_count": 8,
   "metadata": {
    "collapsed": false
   },
   "outputs": [
    {
     "name": "stdout",
     "output_type": "stream",
     "text": [
      "b'_\\xbf\\xe8\"\\x86*\\xc6\\xf3\\xc2\\n\\xf5\\x0c\\x98\\xcc\\x01z'\n"
     ]
    }
   ],
   "source": [
    "#Now we encrypt the padded message as usual...\n",
    "\n",
    "obj3 = AES.new('This is a key123', AES.MODE_CBC, 'This is an IV456')\n",
    "ciphertext = obj3.encrypt(padded_message)\n",
    "print(ciphertext)"
   ]
  },
  {
   "cell_type": "code",
   "execution_count": 9,
   "metadata": {
    "collapsed": false
   },
   "outputs": [
    {
     "data": {
      "text/plain": [
       "(bytes, str)"
      ]
     },
     "execution_count": 9,
     "metadata": {
     },
     "output_type": "execute_result"
    }
   ],
   "source": [
    "#Aside:  The decode function turns a byte array into a python string\n",
    "type(b'hello'), type(b'hello'.decode())"
   ]
  },
  {
   "cell_type": "code",
   "execution_count": 10,
   "metadata": {
    "collapsed": false
   },
   "outputs": [
    {
     "data": {
      "text/plain": [
       "str"
      ]
     },
     "execution_count": 10,
     "metadata": {
     },
     "output_type": "execute_result"
    }
   ],
   "source": [
    "type( b'Nicholas Cage'.decode())"
   ]
  },
  {
   "cell_type": "code",
   "execution_count": 11,
   "metadata": {
    "collapsed": false
   },
   "outputs": [
    {
     "name": "stdout",
     "output_type": "stream",
     "text": [
      "b'Class of 2023\\x03\\x03\\x03'\n"
     ]
    },
    {
     "data": {
      "text/plain": [
       "'Class of 2023'"
      ]
     },
     "execution_count": 11,
     "metadata": {
     },
     "output_type": "execute_result"
    }
   ],
   "source": [
    "# Now we decrypt the ciphertext and \"unpad\" the result to get the original message.\n",
    "\n",
    "obj4 = AES.new('This is a key123', AES.MODE_CBC, 'This is an IV456')\n",
    "msg_with_pad = obj4.decrypt(ciphertext)\n",
    "print(msg_with_pad)\n",
    "message = unpad(msg_with_pad.decode())\n",
    "message"
   ]
  },
  {
   "cell_type": "markdown",
   "metadata": {
    "collapsed": false
   },
   "source": [
    "# Exercise:\n",
    "\n",
    "Encrypt and then decrypt a message of your choice using a key and IV of your choice.  The key must be 16,24 or 32 characters, exactly, and the IV must be 16 characters. \n",
    "\n",
    "Be sure to use padding so that you don't need to worry about the length of the message.\n"
   ]
  },
  {
   "cell_type": "code",
   "execution_count": 24,
   "metadata": {
    "cocalc": {
     "outputs": {
      "0": {
       "name": "input",
       "opts": {
        "password": false,
        "prompt": "Please enter a passphrase: "
       },
       "output_type": "stream",
       "value": "bluemoon"
      },
      "1": {
       "name": "input",
       "opts": {
        "password": false,
        "prompt": "Enter a short message to encrypt: "
       },
       "output_type": "stream",
       "value": "how lucky can one guy be"
      },
      "3": {
       "name": "input",
       "opts": {
        "password": false,
        "prompt": "Please enter a passphrase for decryption (same as encryption): "
       },
       "output_type": "stream",
       "value": "redmoon"
      }
     }
    },
    "collapsed": false
   },
   "outputs": [
    {
     "name": "stdout",
     "output_type": "stream",
     "text": "Please enter a passphrase:  bluemoon"
    },
    {
     "name": "stdout",
     "output_type": "stream",
     "text": "Enter a short message to encrypt:  how lucky can one guy be"
    },
    {
     "name": "stdout",
     "output_type": "stream",
     "text": [
      "This produced the ciphertext below.\n",
      "b'\\xe7\\x9e\\x19e\\xaf\\xac\\xdfb\\xeakF\\x92\\xbcF(\\xbf;&\\x9a\\xbd6&L\\x8d\\xe7\"?\\xde\\xfe\\xda\\xe2X'\n"
     ]
    },
    {
     "name": "stdout",
     "output_type": "stream",
     "text": "Please enter a passphrase for decryption (same as encryption):  redmoon"
    },
    {
     "name": "stdout",
     "output_type": "stream",
     "text": [
      "Decryption failed.  Was the passphrase correct?\n"
     ]
    }
   ],
   "source": [
    "# Solution to exercise goes here\n",
    "#https://pypi.org/project/pycrypto/\n",
    "\n",
    "from Crypto.Cipher import AES\n",
    "import hashlib\n",
    "\n",
    "m = hashlib.sha256()\n",
    "passphrase = input(\"Please enter a passphrase: \")\n",
    "passphrase = passphrase.encode() #turns a string into a byte string\n",
    "m.update(passphrase)\n",
    "digest = m.digest() #this \"digest\" is the hash\n",
    "key = digest[:16]  # The first 16 bytes of the 32 byte hash are the key\n",
    "IV = digest[16:]   # The last 16 bytes of the 32 byte hash are the IV\n",
    "\n",
    "message = input(\"Enter a short message to encrypt: \")\n",
    "BS = 16\n",
    "pad = lambda s: s + (BS - len(s) % BS) * chr(BS - len(s) % BS) \n",
    "unpad = lambda s : s[0:-ord(s[-1])]\n",
    "\n",
    "obj = AES.new(key, AES.MODE_CBC,IV)\n",
    "message = pad(message)\n",
    "ciphertext = obj.encrypt(message)\n",
    "\n",
    "print(\"This produced the ciphertext below.\")\n",
    "print(ciphertext)\n",
    "\n",
    "m = hashlib.sha256()\n",
    "passphrase = input(\"Please enter a passphrase for decryption (same as encryption): \")\n",
    "passphrase = passphrase.encode() #turns a string into a byte string\n",
    "m.update(passphrase)\n",
    "digest = m.digest() #this \"digest\" is the hash\n",
    "key = digest[:16]  # The first 16 bytes of the 32 byte hash are the key\n",
    "IV = digest[16:]   # The last 16 bytes of the 32 byte hash are the IV\n",
    "\n",
    "obj = AES.new(key, AES.MODE_CBC,IV)\n",
    "\n",
    "try:\n",
    "    message = obj.decrypt(ciphertext)\n",
    "    message = unpad(message.decode())\n",
    "    print(\"The plaintext was:\")\n",
    "    print(message)\n",
    "except:\n",
    "    print(\"Decryption failed.  Was the passphrase correct?\")"
   ]
  },
  {
   "cell_type": "code",
   "execution_count": 13,
   "metadata": {
    "collapsed": false
   },
   "outputs": [
    {
     "name": "stdout",
     "output_type": "stream",
     "text": [
      "32\n"
     ]
    },
    {
     "data": {
      "text/plain": [
       "\"Even God doesn't work on Sundays\\x10\\x10\\x10\\x10\\x10\\x10\\x10\\x10\\x10\\x10\\x10\\x10\\x10\\x10\\x10\\x10\""
      ]
     },
     "execution_count": 13,
     "metadata": {
     },
     "output_type": "execute_result"
    }
   ],
   "source": [
    "\n",
    "# What happens if the message is already a multiple of 16 in length\n",
    "# and you pad it?\n",
    "\n",
    "S = \"Even God doesn't work on Sundays\"\n",
    "print( len(S))\n",
    "pad(S)"
   ]
  },
  {
   "cell_type": "markdown",
   "metadata": {
    "collapsed": false
   },
   "source": [
    "## An irritating detail (part 2)\n",
    "\n",
    "Notice that the \"key\" must be exactly 16, 24, or 32 bytes long.  This means that we can't use ordinary passwords like \"swordfish\" as a key.\n",
    "\n",
    "We can get around this and use natural passphrases as keys, we just need to be sure to use the _hash_ of a passphrase as a key.  Below is an example of how this can work.\n",
    "\n",
    "We use [SHA256](https://en.wikipedia.org/wiki/SHA-2) as a hash function.\n",
    "\n",
    "It returns a 256 bit = 32 byte hash digest.  We use the first 16 bytes for the key, and the last 16 bytes for the IV.  Now we can relax and use regular passwords, plus we don't have to remember the IV because it's built into the password. "
   ]
  },
  {
   "cell_type": "code",
   "execution_count": 14,
   "metadata": {
    "collapsed": false
   },
   "outputs": [
    {
     "name": "stdout",
     "output_type": "stream",
     "text": [
      "Here's the digest of the message:\n",
      "b\"\\xe3\\xb0\\xc4B\\x98\\xfc\\x1c\\x14\\x9a\\xfb\\xf4\\xc8\\x99o\\xb9$'\\xaeA\\xe4d\\x9b\\x93L\\xa4\\x95\\x99\\x1bxR\\xb8U\"\n",
      "\n",
      "Here are the first 16 bytes\n",
      "b'\\xe3\\xb0\\xc4B\\x98\\xfc\\x1c\\x14\\x9a\\xfb\\xf4\\xc8\\x99o\\xb9$'\n",
      "\n",
      "Here are the last 16 bytes\n",
      "b\"'\\xaeA\\xe4d\\x9b\\x93L\\xa4\\x95\\x99\\x1bxR\\xb8U\"\n"
     ]
    }
   ],
   "source": [
    "# A quick example of hashing ...\n",
    "\n",
    "import hashlib\n",
    "m = hashlib.sha256()\n",
    "message_to_hash = \"I liked you the whole time\".encode()\n",
    "D = m.digest()\n",
    "print(\"Here's the digest of the message:\")\n",
    "print(D)\n",
    "print(\"\\nHere are the first 16 bytes\")\n",
    "print(D[:16])\n",
    "print(\"\\nHere are the last 16 bytes\")\n",
    "print(D[16:])"
   ]
  },
  {
   "cell_type": "code",
   "execution_count": 20,
   "metadata": {
    "cocalc": {
     "outputs": {
      "0": {
       "name": "input",
       "opts": {
        "password": false,
        "prompt": "Please enter a passphrase: "
       },
       "output_type": "stream",
       "value": "qweqwe"
      },
      "1": {
       "name": "input",
       "opts": {
        "password": false,
        "prompt": "Enter a short message to encrypt: "
       },
       "output_type": "stream",
       "value": "asd"
      }
     }
    },
    "collapsed": false
   },
   "outputs": [
    {
     "name": "stdout",
     "output_type": "stream",
     "text": "Please enter a passphrase:  qweqwe"
    },
    {
     "name": "stdout",
     "output_type": "stream",
     "text": "Enter a short message to encrypt:  asd"
    },
    {
     "name": "stdout",
     "output_type": "stream",
     "text": [
      "This produced the ciphertext below.\n",
      "b'0A\\x89-g\\xcek\"\\n1\\xf2\\xfd\\x93\\xe8\\x942'\n"
     ]
    }
   ],
   "source": [
    "\"\"\"\n",
    "This code turns a natural passphrase into a 16 byte key, a 16 byte IV, and encrypts a given message.\n",
    "\"\"\"\n",
    "\n",
    "import hashlib\n",
    "m = hashlib.sha256()\n",
    "passphrase = input(\"Please enter a passphrase: \")\n",
    "passphrase = passphrase.encode() #turns a string into a byte string\n",
    "m.update(passphrase)\n",
    "digest = m.digest() #this \"digest\" is the hash\n",
    "key = digest[:16]  # The first 16 bytes of the 32 byte hash are the key\n",
    "IV = digest[16:]   # The last 16 bytes of the 32 byte hash are the IV\n",
    "\n",
    "message = input(\"Enter a short message to encrypt: \")\n",
    "obj = AES.new(key, AES.MODE_CBC,IV)\n",
    "message = pad(message)\n",
    "ciphertext = obj.encrypt(message)\n",
    "\n",
    "print(\"This produced the ciphertext below.\")\n",
    "print(ciphertext)"
   ]
  },
  {
   "cell_type": "code",
   "execution_count": 25,
   "metadata": {
    "cocalc": {
     "outputs": {
      "0": {
       "name": "input",
       "opts": {
        "password": false,
        "prompt": "Please enter a passphrase for decryption (same as encryption): "
       },
       "output_type": "stream",
       "value": "wider than a mile"
      }
     }
    },
    "collapsed": false
   },
   "outputs": [
    {
     "name": "stdout",
     "output_type": "stream",
     "text": "Please enter a passphrase for decryption (same as encryption):  wider than a mile"
    },
    {
     "name": "stdout",
     "output_type": "stream",
     "text": [
      "The plaintext was:\n",
      "moonriver\n"
     ]
    }
   ],
   "source": [
    "# Now we get the passphrase once again for decryption.\n",
    "\n",
    "import hashlib\n",
    "m = hashlib.sha256()\n",
    "passphrase = input(\"Please enter a passphrase for decryption (same as encryption): \")\n",
    "passphrase = passphrase.encode() #turns a string into a byte string\n",
    "m.update(passphrase)\n",
    "digest = m.digest() #this \"digest\" is the hash\n",
    "key = digest[:16]  # The first 16 bytes of the 32 byte hash are the key\n",
    "IV = digest[16:]   # The last 16 bytes of the 32 byte hash are the IV\n",
    "\n",
    "obj = AES.new(key, AES.MODE_CBC,IV)\n",
    "\n",
    "try:\n",
    "    message = obj.decrypt(ciphertext)\n",
    "    message = unpad(message.decode())\n",
    "    print(\"The plaintext was:\")\n",
    "    print(message)\n",
    "except:\n",
    "    print(\"Decryption failed.  Was the passphrase correct?\")"
   ]
  },
  {
   "cell_type": "code",
   "execution_count": 0,
   "metadata": {
    "collapsed": false
   },
   "outputs": [
   ],
   "source": [
   ]
  },
  {
   "cell_type": "code",
   "execution_count": 3,
   "metadata": {
    "collapsed": false
   },
   "outputs": [
   ],
   "source": [
    "#Excercise: \n",
    "## Complete the function below so that it works as described.\n",
    "from Crypto.Cipher import AES\n",
    "import hashlib\n",
    "\n",
    "def get_AES_obj(passphrase):\n",
    "    \"\"\"Input: a passphrase string\n",
    "       Output: the function returns AES.new(key, AES.MODE_CBC,IV), where key and IV are derived from the passphrase as above.\n",
    "    \"\"\"\n",
    "    m = hashlib.sha256()\n",
    "    passphrase = passphrase.encode() #turns a string into a byte string\n",
    "    m.update(passphrase)\n",
    "    digest = m.digest() #this \"digest\" is the hash\n",
    "    key = digest[:16]  # The first 16 bytes of the 32 byte hash are the key\n",
    "    IV = digest[16:]   # The last 16 bytes of the 32 byte hash are the IV\n",
    "    obj = AES.new(key, AES.MODE_CBC,IV)\n",
    "    return obj\n",
    "\n",
    "## Complete the function below so that it works as described.    \n",
    "def encrypt(message,passphrase):\n",
    "    \"\"\"\n",
    "    Input:  a message string to encrypt and an arbitrary passphrase string.\n",
    "    Output: a byte string corresponding to the ciphertext produced by encrypting\n",
    "    \"message\" in the manner shown in the above cells of this notebook.  \n",
    "    Be sure to use the hash trick and padding. \n",
    "    \"\"\"\n",
    "    obj = get_AES_obj(passphrase)\n",
    "    BS = 16\n",
    "    pad = lambda s: s + (BS - len(s) % BS) * chr(BS - len(s) % BS) \n",
    "    padded_message = pad(message)\n",
    "    ciphertext = obj.encrypt(padded_message)\n",
    "    return ciphertext\n",
    "\n",
    "    \n",
    "    \n",
    "    \n",
    "    \n",
    "    \n",
    "## Complete the function below so that it works as described.\n",
    "def decrypt(ciphertext,passphrase):\n",
    "    \"\"\"\n",
    "    Input:  a ciphertext byte string to decrypt and an arbitrary passphrase string.\n",
    "    Output: a string corresponding to the original plaintext\n",
    "\n",
    "    Be sure to unpad the message and use try/except structures for robustness.\n",
    "    \"\"\"    \n",
    "    obj = get_AES_obj(passphrase)\n",
    "    unpad = lambda s : s[0:-ord(s[-1])]\n",
    "    pdm = obj.decrypt(ciphertext)\n",
    "    unpadded = unpad(pdm.decode())\n",
    "    return unpadded\n"
   ]
  },
  {
   "cell_type": "code",
   "execution_count": 0,
   "metadata": {
    "collapsed": false
   },
   "outputs": [
   ],
   "source": [
   ]
  },
  {
   "cell_type": "code",
   "execution_count": 22,
   "metadata": {
    "collapsed": false
   },
   "outputs": [
    {
     "name": "stdout",
     "output_type": "stream",
     "text": [
      "prof johnson is in his kitchen\n"
     ]
    }
   ],
   "source": [
    "# Test your encryption and decryption functions...\n",
    "\n",
    "CT = encrypt(\"prof johnson is in his kitchen\",\"stalker666\")\n",
    "PT = decrypt(CT,\"stalker666\")\n",
    "print(PT)\n",
    "### The output should be \"prof johnson is in his kitchen\""
   ]
  },
  {
   "cell_type": "code",
   "execution_count": 21,
   "metadata": {
    "cocalc": {
     "outputs": {
      "0": {
       "name": "input",
       "opts": {
        "password": false,
        "prompt": "Please enter a passphrase: "
       },
       "output_type": "stream",
       "value": "not blah"
      }
     }
    },
    "collapsed": false
   },
   "outputs": [
    {
     "name": "stdout",
     "output_type": "stream",
     "text": "Please enter a passphrase:  not blah"
    },
    {
     "data": {
      "text/plain": [
       "'Luxembourg is a country in central Europe.'"
      ]
     },
     "execution_count": 21,
     "metadata": {
     },
     "output_type": "execute_result"
    }
   ],
   "source": [
    "## Exercise:\n",
    "\n",
    "###  Read in and encrypt a file.\n",
    "###  Write the ciphertext to a new file.\n",
    "###  Read in the ciphertext and decrypt it.\n",
    "###  Print out the plaintext\n",
    "\n",
    "### I've done some of the rigamorole for you to get you started.\n",
    "\n",
    "### Update:  Because this is not a class on Python I have completed this exercise for you.\n",
    "### Be sure to read through and see how this program works.\n",
    "\n",
    "m = hashlib.sha256()\n",
    "passphrase = input(\"Please enter a passphrase: \")\n",
    "passphrase = passphrase.encode() #turns a string into a byte string\n",
    "m.update(passphrase)\n",
    "digest = m.digest() #this \"digest\" is the hash\n",
    "key = digest[:16]  # The first 16 bytes of the 32 byte hash are the key\n",
    "IV = digest[16:]   # The last 16 bytes of the 32 byte hash are the IV\n",
    "obj = AES.new(key, AES.MODE_CBC,IV)\n",
    "\n",
    "\n",
    "## This creates a file you can encrypt\n",
    "file_to_encrypt = open(\"fte.txt\",\"w\")\n",
    "file_to_encrypt.write(\"Luxembourg is a country in central Europe.\")\n",
    "file_to_encrypt.close()\n",
    "\n",
    "## Open and read in the plaintext\n",
    "fp = open(\"fte.txt\",\"r\")\n",
    "plaintext = fp.read()\n",
    "fp.close()\n",
    "plaintext = pad(plaintext)   ## Pad the plaintext\n",
    "ct = obj.encrypt(plaintext)  ## Encrypt the plaintext\n",
    "\n",
    "## Write the ciphertext to a file\n",
    "fp = open(\"fte.enc\",\"wb\")\n",
    "fp.write(ct)   ### Write the ciphertext to the fte.enc file\n",
    "fp.close()\n",
    "\n",
    "## Open the ciphertext for decryption\n",
    "fp = open(\"fte.enc\",\"rb\")\n",
    "obj = AES.new(key, AES.MODE_CBC,IV)\n",
    "ct = fp.read()    ## Read the file\n",
    "fp.close()\n",
    "\n",
    "pt = obj.decrypt(ct)   ## Decrypt the ciphertext\n",
    "pt = unpad(pt.decode())   ## Unpad the message\n",
    "pt                        ## Print the plaintext\n"
   ]
  },
  {
   "cell_type": "markdown",
   "metadata": {
    "collapsed": false
   },
   "source": [
    "## The Project\n",
    "\n",
    "The goal of this project is to create a standalone command line tool which encrypts and decrypts files.  You already have the basic parts:  File IO and functions for encrypting and decrypting messages. You just need to put all of these parts together.  \n",
    "\n",
    "You should have absorbed a bit about how Python works in the above.  You can watch this video for a little more info:\n",
    "\n",
    "[Python in 10 Minutes](https://www.youtube.com/watch?v=pxXTHGRtXXs&lc=z23qcnhq1ujpfxgnkacdp43axgdsz4tk00mduure3nhw03c010c)\n",
    "\n",
    "Two things about that video:  \n",
    "\n",
    "1. You don't need to install Python if you're using Cocalc.  \n",
    "1. That tutorial is for Python 2.\n",
    "\n",
    "The main practical difference between Python 2 and Python 3 is that print statments look a little different:\n",
    "\n",
    "Python 2:\n",
    "\n",
    "    print \"hello, no parens!\"\n",
    "    \n",
    "Python 3:\n",
    "\n",
    "    print(\"Oh no, I have to use parentheses!\")\n",
    "    \n",
    "#### A Standalone Program\n",
    "\n",
    "Here is how you create a standalone program in Python.\n",
    "\n",
    "**First** Create a new file with the name you want your program to have.  Please call your program for this project `encrypt360`.  \n",
    "\n",
    "From the command line you can do this by entering:\n",
    "\n",
    "    $ touch encrypt360\n",
    "    \n",
    "\n",
    "**Second** Modify the file permissions for this file so that it is executable. You do this using *chmod* as follows (from the command line):\n",
    "\n",
    "    $ chmod u+x encrypt360\n",
    "\n",
    "This says \"allow the user to execute the file named encrypt360.\"\n",
    "\n",
    "**Third** Add the following line to the top of the file:\n",
    "\n",
    "    #! /usr/bin/python3\n",
    "    \n",
    "This tells the system:  \"When this file is executed, run it using the Python 3 interpreter, which is located in the directory `/usr/bin`.\"\n",
    "\n",
    "To make sure your setup is working, add the line\n",
    "\n",
    "    print(\"Hello world!\")\n",
    "    \n",
    "to your file.  Then execute it from the command line like this:\n",
    "\n",
    "    $ ./encrypt360\n",
    "    \n",
    "This should print \"Hello World\" to the terminal.  (You can delete that line now if the check worked).\n",
    "\n",
    "#### Specifications\n",
    "\n",
    "Your command line tool should take 2 command line inputs:  A mode and a filename.\n",
    "\n",
    "The *mode* will be either \"e\" or \"d\" representing *encrypt* or *decrypt*.  \n",
    "\n",
    "The *filename* will be the name of the file to encrypt or decrypt.  \n",
    "\n",
    "For example the user might type\n",
    "\n",
    "    $ encrypt360 e diary.txt\n",
    "    \n",
    "where the command line arguments are 'e' and 'diary.txt'.\n",
    "\n",
    "If the user doesn't include these command line arguments you want to yell at them and tell them how the program works.\n",
    "\n",
    "Here is some starter code:\n",
    "\n",
    "    #! /usr/bin/python3\n",
    "\n",
    "    import sys\n",
    "\n",
    "    arguments = sys.argv\n",
    "\n",
    "    if len(arguments) != 3:\n",
    "        print(\"Usage:  encrypt360 <mode> <filename>\")\n",
    "        exit(0)\n",
    "        \n",
    "    print(arguments)\n",
    "\n",
    "Try running this.  This program just gets the command line inputs and makes sure that there are two of them (in addition to the filename which is always given to a program as the 0th command line input).\n",
    "\n",
    "#### Robustness \n",
    "\n",
    "You can make your program more robust by checking for other user goofs.\n",
    "\n",
    "You should add code to make sure the following are true:\n",
    "\n",
    "1. Verify that `arguments[1]` is either 'e' or 'd'.  If not yell at the user and stop the program (exit(0)). \n",
    "2. Verify that a file called <filename> (whatever the user typed) actually exists.  If it doesn't, yell at the user and stop the program.  \n",
    "\n",
    "The following code shows you how to do (2). \n",
    "\n",
    "    #! /usr/bin/python3\n",
    "\n",
    "    import sys\n",
    "\n",
    "    arguments = sys.argv\n",
    "\n",
    "    if len(arguments) != 3:\n",
    "        print(\"Usage:  encrypt360 <mode> <filename>\")\n",
    "        exit(0)\n",
    "\n",
    "\n",
    "    mode, filename = arguments[1],arguments[2]\n",
    "\n",
    "    import os\n",
    "\n",
    "    if not os.path.exists(filename):\n",
    "        print(\"File does not exist!\")\n",
    "        exit(0)\n",
    "\n",
    "This bit of code uses the Python `os` module to check that the filename given as the 2nd input by the user refers to a file that really exists.  If the file does not exist, the program shuts down.\n",
    "\n",
    "#### The Real Job\n",
    "\n",
    "Now it's time to add the \"guts\" to your program:  the encryption and decryption.  \n",
    "\n",
    "You may or may not want to copy the functions you wrote in cell 18 above into `encrypt360` so that you can use them in your code.  You can just put them at the top (but below the #! line).  You will also need `pad` and `unpad` from cell 6 above.  You will also need to add the line\n",
    "\n",
    "    from Crypto.Cipher import AES\n",
    "\n",
    "at the top of your program (above the functions but below #!).\n",
    "\n",
    "Now, borrow code from cell 27 above to actually implement your program.\n",
    "\n",
    "To name your ciphertext file, just add \".enc\" to whatever filename the user gave:\n",
    "    \n",
    "    ciphertext_name = filename+\".enc\"\n",
    "    \n",
    "When decrypting, you can strip off the \".enc\" like this:\n",
    "\n",
    "    plaintext_name = filename[:-4]\n",
    "    \n",
    "Your program should prompt the user for a passphrase as in cell 27 and use this to generate the key/IV.\n",
    "\n",
    "#### Testing\n",
    "\n",
    "Test your program like this:\n",
    "\n",
    "**First** Use it to encrypt a plaintext `pt.txt` that you create.\n",
    "\n",
    "**Second** Use xxd to look at the resulting ciphertext:\n",
    "    $ xxd pt.txt.enc\n",
    "You should see some random looking bytes.  *Do not* open the ciphertext using the Cocalc text viewer (because it breaks binaries).\n",
    "\n",
    "**Third** Use your program to decrypt `pt.txt.enc` and verify that the result is the same as `pt.txt`.\n",
    "\n",
    "(Be sure not to overwrite your original `pt.txt` -- keep a safe copy of that file under a different name.)"
   ]
  },
  {
   "cell_type": "code",
   "execution_count": 0,
   "metadata": {
    "collapsed": false
   },
   "outputs": [
   ],
   "source": [
   ]
  }
 ],
 "metadata": {
  "kernelspec": {
   "display_name": "Python 3 (system-wide)",
   "language": "python",
   "metadata": {
    "cocalc": {
     "description": "Python 3 programming language",
     "priority": 100,
     "url": "https://www.python.org/"
    }
   },
   "name": "python3"
  },
  "language_info": {
   "codemirror_mode": {
    "name": "ipython",
    "version": 3
   },
   "file_extension": ".py",
   "mimetype": "text/x-python",
   "name": "python",
   "nbconvert_exporter": "python",
   "pygments_lexer": "ipython3",
   "version": "3.6.9"
  }
 },
 "nbformat": 4,
 "nbformat_minor": 0
}